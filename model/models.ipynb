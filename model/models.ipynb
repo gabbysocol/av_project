{
 "cells": [
  {
   "cell_type": "code",
   "execution_count": 78,
   "metadata": {},
   "outputs": [],
   "source": [
    "import numpy as np\n",
    "import pandas as pd\n",
    "import datetime\n",
    "\n",
    "from sklearn.base import BaseEstimator, TransformerMixin\n",
    "from sklearn.preprocessing import OneHotEncoder, StandardScaler\n",
    "from sklearn.impute import SimpleImputer\n",
    "from sklearn.pipeline import FeatureUnion, Pipeline\n",
    "from sklearn.model_selection import train_test_split\n",
    "from sklearn.tree import DecisionTreeRegressor\n",
    "from sklearn.ensemble import RandomForestRegressor\n",
    "from sklearn.model_selection import GridSearchCV\n",
    "from sklearn import metrics\n",
    "\n",
    "\n",
    "import warnings\n",
    "warnings.simplefilter('ignore')"
   ]
  },
  {
   "cell_type": "code",
   "execution_count": 87,
   "metadata": {},
   "outputs": [],
   "source": [
    "class FeatureSelector(BaseEstimator, TransformerMixin):\n",
    "    \"\"\"\n",
    "    The class provides basic functionality for retrieving\n",
    "    a subset of columns from the dataset.\n",
    "    \"\"\"\n",
    "    \n",
    "    features = ['ABS (антиблокировочная система)',\n",
    "         'AUX/iPod',\n",
    "         'Bluetooth',\n",
    "         'CD/MP3 проигрыватель',\n",
    "         'ESP (система поддержания динамической стабильности)',\n",
    "         'USB',\n",
    "         'Автозапуск двигателя',\n",
    "         'Антипробуксовочная система',\n",
    "         'Датчик дождя',\n",
    "         'Иммобилайзер',\n",
    "         'Камера заднего вида',\n",
    "         'Климат-контроль',\n",
    "         'Кондиционер',\n",
    "         'Контроль мертвых зон на зеркалах',\n",
    "         'Круиз-контроль',\n",
    "         'Ксеноновые фары',\n",
    "         'Легкосплавные диски',\n",
    "         'Люк',\n",
    "         'Материал салона',\n",
    "         'Мультимедийный экран',\n",
    "         'Обогрев зеркал',\n",
    "         'Обогрев лобового стекла',\n",
    "         'Обогрев руля',\n",
    "         'Обогрев сидений',\n",
    "         'Панорамная крыша',\n",
    "         'Парктроники',\n",
    "         'Подушки безопасности боковые',\n",
    "         'Подушки безопасности задние',\n",
    "         'Подушки безопасности передние',\n",
    "         'Противотуманные фары',\n",
    "         'Рейлинги на крыше',\n",
    "         'Светодиодные фары',\n",
    "         'Сигнализация',\n",
    "         'Управление мультимедиа с руля',\n",
    "         'Фаркоп',\n",
    "         'Цвет салона - темный',\n",
    "         'Штатная навигация',\n",
    "         'Электрорегулировка сидений',\n",
    "         'Электростеклоподъемники задние',\n",
    "         'Электростеклоподъемники передние']\n",
    "    \n",
    "    def __init__(self, feature_names=features):\n",
    "        \"\"\"\n",
    "        Initialize class instance by setting\n",
    "        a list of columns to retrieve from the dataset.\n",
    "        \"\"\"\n",
    "        BaseEstimator.__init__(self)\n",
    "        TransformerMixin.__init__(self)\n",
    "        self.feature_names = feature_names\n",
    "        \n",
    "    def fit(self, X, y=None):\n",
    "        \"\"\"\n",
    "        Fit FeatureSelector to X, but really do nothing.\n",
    "        Return self.\n",
    "        \"\"\"\n",
    "        return self\n",
    "    \n",
    "    def transform(self, X, y=None):\n",
    "        \"\"\"\n",
    "        Transform X using feature selection. \n",
    "        Return column-subset of X.\n",
    "        \"\"\"\n",
    "        return X[self.feature_names]"
   ]
  },
  {
   "cell_type": "code",
   "execution_count": 88,
   "metadata": {},
   "outputs": [],
   "source": [
    "class ToIntTransformer(BaseEstimator, TransformerMixin):\n",
    "    \"\"\"\n",
    "    Required columns: volume, run, name, year.\n",
    "    For update data.\n",
    "    \"\"\"\n",
    "    \n",
    "    def fit(self, X, y=None):\n",
    "        return self\n",
    "    \n",
    "    def transform(self, X, y=None):\n",
    "        X = X.copy()\n",
    "        self.to_int(X, 'Объем')\n",
    "        self.to_int(X, 'Пробег')\n",
    "        self.year_to_old(X)\n",
    "        \n",
    "        return X.drop(['Название', 'Год'], axis=1).values\n",
    "        \n",
    "    def year_to_old(self, X):\n",
    "        X['Возраст'] = (datetime.datetime.now().year - X['Год']).astype('int8')\n",
    "        \n",
    "    def to_int(self, X, column_name):\n",
    "        X[column_name] = X[column_name].astype('int32')\n",
    "        "
   ]
  },
  {
   "cell_type": "code",
   "execution_count": 89,
   "metadata": {},
   "outputs": [],
   "source": [
    "class FeatureGenerator(BaseEstimator, TransformerMixin):\n",
    "        \n",
    "    def fit(self, X, y=None):\n",
    "        return self\n",
    "    \n",
    "    def transform(self, X, y=None):\n",
    "        return X\n",
    "            "
   ]
  },
  {
   "cell_type": "code",
   "execution_count": 90,
   "metadata": {},
   "outputs": [],
   "source": [
    "class CatTransformer(BaseEstimator, TransformerMixin):\n",
    "    \"\"\"\n",
    "    Required columns: cuzov, fuel, name, region.\n",
    "    \"\"\"    \n",
    "    \n",
    "    def fit(self, X, y=None):\n",
    "        return self\n",
    "    \n",
    "    def transform(self, X, y=None):\n",
    "        X = X.copy()\n",
    "#         self.cut(X, ['cuzov', 'fuel'])\n",
    "        self.fix_names(X)\n",
    "        return X\n",
    "    \n",
    "    def cut(self, X, column_names):\n",
    "        for col in column_names:\n",
    "            X[col] = X[col].apply(lambda x: x.split()[0])\n",
    "        \n",
    "    def fix_names(self, df):\n",
    "        value_count = df['Название'].value_counts()\n",
    "        df['Название'] = df['Название'].apply(lambda x: x if value_count[x] > 100 else 'другая')\n",
    "        "
   ]
  },
  {
   "cell_type": "code",
   "execution_count": 32,
   "metadata": {},
   "outputs": [],
   "source": [
    "from_file = 'data/full_vis.csv'"
   ]
  },
  {
   "cell_type": "code",
   "execution_count": 33,
   "metadata": {},
   "outputs": [],
   "source": [
    "avto = pd.read_csv(from_file, sep=';')"
   ]
  },
  {
   "cell_type": "code",
   "execution_count": 74,
   "metadata": {},
   "outputs": [
    {
     "data": {
      "text/plain": [
       "2020"
      ]
     },
     "execution_count": 74,
     "metadata": {},
     "output_type": "execute_result"
    }
   ],
   "source": [
    "# avto.info()\n",
    "datetime.datetime.now().year"
   ]
  },
  {
   "cell_type": "code",
   "execution_count": 92,
   "metadata": {},
   "outputs": [],
   "source": [
    "X = avto.drop(['Цена'], axis=1)\n",
    "y = avto['Цена'].apply(lambda x: int(str(x).replace(' ', '')))\n",
    "X_train, X_test, y_train, y_test = train_test_split(X, y ,test_size=0.2, random_state=42)\n",
    "\n",
    "feat_pipeline = Pipeline(\n",
    "    steps=[\n",
    "        ('feat_selector', FeatureSelector(FeatureSelector().feature_names)),\n",
    "        ('feat_generator', FeatureGenerator()),\n",
    "        ('feat_encoder', OneHotEncoder())\n",
    "    ]\n",
    ")\n",
    "\n",
    "int_pipeline = Pipeline(\n",
    "    steps=[\n",
    "        ('int_selector', FeatureSelector(['Объем', 'Название', 'Пробег', 'Год'])),\n",
    "        ('int_transformer', ToIntTransformer())\n",
    "    ]\n",
    ")\n",
    "\n",
    "cat_pipeline = Pipeline(\n",
    "    steps=[\n",
    "        ('cat_selector', FeatureSelector(['Тип кузова', 'Тип топлива', 'Название', 'Регион', 'Цвет'])),\n",
    "        ('cat_transformer', CatTransformer()),\n",
    "        ('cat_encoder', OneHotEncoder())\n",
    "    ]\n",
    ")\n",
    "\n",
    "no_proc_pipeline = Pipeline(\n",
    "    steps=[\n",
    "        ('no_proc_selector', FeatureSelector(['Привод', 'Состояние', 'Трансмиссия'])),\n",
    "        ('no_proc_imputer', SimpleImputer(strategy='most_frequent')),\n",
    "        ('no_proc_encoder', OneHotEncoder())\n",
    "    ]\n",
    ")\n",
    "\n",
    "pipeline = FeatureUnion(transformer_list= [\n",
    "    ('feat', feat_pipeline),\n",
    "    ('int', int_pipeline),\n",
    "    ('cat', cat_pipeline),\n",
    "    ('no_proc', no_proc_pipeline)\n",
    "])"
   ]
  },
  {
   "cell_type": "code",
   "execution_count": 93,
   "metadata": {},
   "outputs": [
    {
     "data": {
      "text/plain": [
       "FeatureUnion(n_jobs=None,\n",
       "             transformer_list=[('feat',\n",
       "                                Pipeline(memory=None,\n",
       "                                         steps=[('feat_selector',\n",
       "                                                 FeatureSelector(feature_names=['ABS '\n",
       "                                                                                '(антиблокировочная '\n",
       "                                                                                'система)',\n",
       "                                                                                'AUX/iPod',\n",
       "                                                                                'Bluetooth',\n",
       "                                                                                'CD/MP3 '\n",
       "                                                                                'проигрыватель',\n",
       "                                                                                'ESP '\n",
       "                                                                                '(система '\n",
       "                                                                                'поддержания '\n",
       "                                                                                'динамической '\n",
       "                                                                                'стабильности)',\n",
       "                                                                                'USB',\n",
       "                                                                                'Автозапуск '\n",
       "                                                                                'двигателя',\n",
       "                                                                                'Антипробуксовочная '\n",
       "                                                                                'система',\n",
       "                                                                                'Датчик '\n",
       "                                                                                'дождя',\n",
       "                                                                                'Иммоб...\n",
       "                                                ('no_proc_imputer',\n",
       "                                                 SimpleImputer(add_indicator=False,\n",
       "                                                               copy=True,\n",
       "                                                               fill_value=None,\n",
       "                                                               missing_values=nan,\n",
       "                                                               strategy='most_frequent',\n",
       "                                                               verbose=0)),\n",
       "                                                ('no_proc_encoder',\n",
       "                                                 OneHotEncoder(categorical_features=None,\n",
       "                                                               categories=None,\n",
       "                                                               drop=None,\n",
       "                                                               dtype=<class 'numpy.float64'>,\n",
       "                                                               handle_unknown='error',\n",
       "                                                               n_values=None,\n",
       "                                                               sparse=True))],\n",
       "                                         verbose=False))],\n",
       "             transformer_weights=None, verbose=False)"
      ]
     },
     "execution_count": 93,
     "metadata": {},
     "output_type": "execute_result"
    }
   ],
   "source": [
    "X_train\n",
    "pipeline"
   ]
  },
  {
   "cell_type": "markdown",
   "metadata": {},
   "source": [
    "### Random forest"
   ]
  },
  {
   "cell_type": "code",
   "execution_count": 94,
   "metadata": {},
   "outputs": [],
   "source": [
    "pip_rf = Pipeline(\n",
    "    steps=[\n",
    "        ('preprocessing', pipeline),\n",
    "        ('model', RandomForestRegressor(\n",
    "                        max_depth=20, \n",
    "                        min_samples_split=5, \n",
    "                        min_samples_leaf=1,\n",
    "                        max_features=None,\n",
    "                        random_state=42,\n",
    "                        n_estimators=150,\n",
    "                        n_jobs=-1\n",
    "        ))\n",
    "    ]\n",
    ")"
   ]
  },
  {
   "cell_type": "code",
   "execution_count": 95,
   "metadata": {},
   "outputs": [
    {
     "data": {
      "text/plain": [
       "Pipeline(memory=None,\n",
       "         steps=[('preprocessing',\n",
       "                 FeatureUnion(n_jobs=None,\n",
       "                              transformer_list=[('feat',\n",
       "                                                 Pipeline(memory=None,\n",
       "                                                          steps=[('feat_selector',\n",
       "                                                                  FeatureSelector(feature_names=['ABS '\n",
       "                                                                                                 '(антиблокировочная '\n",
       "                                                                                                 'система)',\n",
       "                                                                                                 'AUX/iPod',\n",
       "                                                                                                 'Bluetooth',\n",
       "                                                                                                 'CD/MP3 '\n",
       "                                                                                                 'проигрыватель',\n",
       "                                                                                                 'ESP '\n",
       "                                                                                                 '(система '\n",
       "                                                                                                 'поддержания '\n",
       "                                                                                                 'динамической '\n",
       "                                                                                                 'стабильности)',\n",
       "                                                                                                 'USB',\n",
       "                                                                                                 'Автозапуск '\n",
       "                                                                                                 'двигателя',\n",
       "                                                                                                 'Антипр...\n",
       "                              transformer_weights=None, verbose=False)),\n",
       "                ('model',\n",
       "                 RandomForestRegressor(bootstrap=True, criterion='mse',\n",
       "                                       max_depth=20, max_features=None,\n",
       "                                       max_leaf_nodes=None,\n",
       "                                       min_impurity_decrease=0.0,\n",
       "                                       min_impurity_split=None,\n",
       "                                       min_samples_leaf=1, min_samples_split=5,\n",
       "                                       min_weight_fraction_leaf=0.0,\n",
       "                                       n_estimators=150, n_jobs=-1,\n",
       "                                       oob_score=False, random_state=42,\n",
       "                                       verbose=0, warm_start=False))],\n",
       "         verbose=False)"
      ]
     },
     "execution_count": 95,
     "metadata": {},
     "output_type": "execute_result"
    }
   ],
   "source": [
    "pip_rf.fit(X_train, y_train)"
   ]
  },
  {
   "cell_type": "code",
   "execution_count": 96,
   "metadata": {},
   "outputs": [
    {
     "name": "stdout",
     "output_type": "stream",
     "text": [
      "0.9749529656597223\n"
     ]
    }
   ],
   "source": [
    "y_pred = pip_rf.predict(X_test)\n",
    "print(metrics.r2_score(y_test, y_pred))"
   ]
  },
  {
   "cell_type": "code",
   "execution_count": 98,
   "metadata": {},
   "outputs": [
    {
     "data": {
      "text/plain": [
       "array([2.02297334e-04, 2.34596509e-04, 3.18072146e-04, 3.14712682e-04,\n",
       "       2.14585783e-04, 2.17646308e-04, 4.24477041e-04, 4.28281871e-04,\n",
       "       6.03001037e-04, 6.28843633e-04, 2.42079053e-04, 2.41880613e-04,\n",
       "       7.96523658e-04, 7.14879737e-04, 2.50982233e-04, 2.62434060e-04,\n",
       "       1.25706620e-03, 1.23008858e-03, 4.07330722e-04, 4.52697626e-04,\n",
       "       6.24600011e-04, 6.41634481e-04, 5.96162456e-04, 5.86764480e-04,\n",
       "       8.33843738e-04, 6.39406500e-04, 9.71102058e-04, 1.07553887e-03,\n",
       "       5.89301058e-04, 4.90294195e-04, 1.41321179e-03, 1.36204798e-03,\n",
       "       3.74539627e-04, 3.86424490e-04, 6.97164583e-04, 7.54738528e-04,\n",
       "       4.45265901e-04, 4.65810487e-04, 4.92767666e-04, 1.19468121e-03,\n",
       "       2.97758641e-03, 1.89727363e-03, 1.53585272e-03, 1.33453098e-03,\n",
       "       3.52025926e-04, 4.18606422e-04, 1.07690393e-03, 9.40720792e-04,\n",
       "       1.76519218e-03, 1.65258712e-03, 3.18040653e-04, 3.43002086e-04,\n",
       "       3.01002787e-03, 2.43780187e-03, 4.12305388e-04, 3.77323704e-04,\n",
       "       2.58775741e-04, 2.74042464e-04, 2.86597321e-04, 2.94361556e-04,\n",
       "       2.17629763e-04, 1.91840024e-04, 7.67511909e-04, 6.75808844e-04,\n",
       "       1.04394422e-03, 1.08247734e-03, 1.02888457e-03, 8.03406010e-04,\n",
       "       9.87807608e-04, 8.59039071e-04, 3.38968468e-04, 3.09613187e-04,\n",
       "       8.92632829e-04, 8.03428367e-04, 5.77543197e-03, 6.20138356e-03,\n",
       "       7.11048439e-04, 8.70279830e-04, 6.64175804e-04, 7.52635733e-04,\n",
       "       3.86474121e-04, 3.33504530e-04, 1.84708623e-04, 2.16456131e-04,\n",
       "       2.81234612e-01, 2.50456909e-02, 5.46316239e-01, 4.23660918e-04,\n",
       "       3.59138099e-03, 7.47145173e-04, 4.09723954e-04, 5.21406261e-03,\n",
       "       1.18115004e-04, 1.14121303e-05, 8.45652485e-04, 7.31536156e-05,\n",
       "       6.95130214e-03, 6.68109716e-04, 3.69629855e-04, 1.38090123e-05,\n",
       "       1.62063277e-03, 1.54290102e-03, 4.07098125e-05, 4.83043867e-04,\n",
       "       3.00072373e-03, 2.65974513e-04, 4.21819412e-05, 2.09677064e-04,\n",
       "       4.22129876e-03, 3.54854732e-03, 1.98337892e-06, 4.23196539e-06,\n",
       "       2.71907268e-05, 1.70575550e-04, 4.13260932e-05, 1.90550962e-05,\n",
       "       4.60149236e-05, 3.50695692e-05, 1.48132952e-04, 3.86842308e-05,\n",
       "       5.05444709e-06, 1.90892988e-05, 1.29816085e-06, 2.07063518e-06,\n",
       "       7.48770400e-06, 7.69287632e-06, 1.03198712e-05, 1.55554302e-05,\n",
       "       1.30242346e-05, 9.12808393e-06, 1.90568159e-06, 2.48046488e-05,\n",
       "       7.33869634e-06, 6.54926805e-05, 4.75145366e-04, 2.20659239e-05,\n",
       "       4.54032582e-06, 9.87879855e-07, 1.70112146e-05, 3.10115322e-05,\n",
       "       1.54975823e-05, 2.17213653e-04, 9.89961662e-07, 1.37948386e-05,\n",
       "       4.65442183e-06, 7.08344006e-06, 2.08701094e-05, 2.51970469e-06,\n",
       "       3.25181390e-06, 4.33000052e-07, 1.37893445e-05, 1.85944484e-06,\n",
       "       1.46496108e-06, 1.81491210e-06, 4.78187881e-06, 2.00895962e-05,\n",
       "       2.36625297e-05, 1.82681247e-05, 1.35098670e-05, 8.92771831e-06,\n",
       "       2.16742117e-05, 6.03665026e-05, 6.83420103e-06, 1.55140634e-05,\n",
       "       1.72192177e-05, 5.97339687e-06, 2.64701388e-06, 1.18628279e-04,\n",
       "       2.44154779e-04, 4.57846213e-04, 3.75743599e-04, 4.82553672e-04,\n",
       "       4.30085620e-04, 1.72904003e-03, 4.68860033e-04, 4.19248640e-04,\n",
       "       1.02849825e-03, 1.52524314e-03, 2.23494975e-04, 8.75385955e-04,\n",
       "       1.14226699e-03, 2.06803103e-03, 1.61138413e-03, 1.74393219e-04,\n",
       "       1.64610465e-03, 6.53768152e-03, 1.03043004e-03, 9.97174752e-03,\n",
       "       5.51451035e-05, 4.56801518e-04, 6.11752355e-04, 2.72558596e-03,\n",
       "       2.64208125e-03])"
      ]
     },
     "execution_count": 98,
     "metadata": {},
     "output_type": "execute_result"
    }
   ],
   "source": [
    "pip_rf['model'].feature_importances_"
   ]
  },
  {
   "cell_type": "markdown",
   "metadata": {},
   "source": [
    "### GridSearch"
   ]
  },
  {
   "cell_type": "code",
   "execution_count": 99,
   "metadata": {},
   "outputs": [],
   "source": [
    "param_grid = [\n",
    "    {\n",
    "        'max_depth': [ 8, 10, 15],\n",
    "        'n_estimators': [100, 150],\n",
    "        'min_samples_split': [3, 5]\n",
    "    }\n",
    "]\n",
    "\n",
    "pip_rf = Pipeline(\n",
    "    steps=[\n",
    "        ('preprocessing', pipeline),\n",
    "        ('rf', GridSearchCV(RandomForestRegressor(\n",
    "                        random_state=42,\n",
    "                        n_jobs=-1\n",
    "        ), param_grid, scoring='r2', cv=5))\n",
    "    ]\n",
    ")"
   ]
  },
  {
   "cell_type": "code",
   "execution_count": null,
   "metadata": {},
   "outputs": [],
   "source": [
    "pip_rf.fit(X_train, y_train)"
   ]
  },
  {
   "cell_type": "code",
   "execution_count": null,
   "metadata": {},
   "outputs": [],
   "source": [
    "y_true, y_pred = y_test, pip_rf.predict(X_test)\n",
    "print(metrics.r2_score(y_true, y_pred))"
   ]
  },
  {
   "cell_type": "code",
   "execution_count": null,
   "metadata": {},
   "outputs": [],
   "source": [
    "pip_rf[1].best_estimator_"
   ]
  },
  {
   "cell_type": "markdown",
   "metadata": {},
   "source": [
    "## Validation"
   ]
  },
  {
   "cell_type": "code",
   "execution_count": null,
   "metadata": {},
   "outputs": [],
   "source": [
    "param_grid = {\"criterion\": [\"mse\", \"mae\"],\n",
    "              \"min_samples_split\": [5, 10, 20],\n",
    "              \"max_depth\": [2, 5, 8, 10],\n",
    "               \"min_samples_leaf\": [20, 40, 100],\n",
    "               \"max_leaf_nodes\": [None, 5, 20, 10],\n",
    "              }\n",
    "pip_tree = Pipeline(\n",
    "    steps=[\n",
    "        ('preprocessing', pipeline),\n",
    "        ('tree', GridSearchCV(DecisionTreeRegressor(\n",
    "                        random_state=42\n",
    "        ), param_grid, scoring='r2', cv=5))\n",
    "    ]\n",
    ")"
   ]
  },
  {
   "cell_type": "code",
   "execution_count": null,
   "metadata": {},
   "outputs": [],
   "source": [
    "pip_tree.fit(X_train, y_train)\n",
    "y_true, y_pred = y_test, pip_rf.predict(X_test)\n",
    "print(metrics.r2_score(y_true, y_pred))"
   ]
  },
  {
   "cell_type": "code",
   "execution_count": null,
   "metadata": {},
   "outputs": [],
   "source": [
    "pip_tree[1].best_estimator_"
   ]
  },
  {
   "cell_type": "markdown",
   "metadata": {},
   "source": [
    "### cat_boost"
   ]
  },
  {
   "cell_type": "code",
   "execution_count": null,
   "metadata": {},
   "outputs": [],
   "source": []
  }
 ],
 "metadata": {
  "kernelspec": {
   "display_name": "Python 3",
   "language": "python",
   "name": "python3"
  },
  "language_info": {
   "codemirror_mode": {
    "name": "ipython",
    "version": 3
   },
   "file_extension": ".py",
   "mimetype": "text/x-python",
   "name": "python",
   "nbconvert_exporter": "python",
   "pygments_lexer": "ipython3",
   "version": "3.7.3"
  }
 },
 "nbformat": 4,
 "nbformat_minor": 2
}
