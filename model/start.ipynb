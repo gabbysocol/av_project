{
 "cells": [
  {
   "cell_type": "code",
   "execution_count": 37,
   "metadata": {},
   "outputs": [],
   "source": [
    "import pandas as pd\n",
    "import numpy as np\n",
    "import requests\n",
    "import json\n",
    "from selenium import webdriver\n",
    "from bs4 import BeautifulSoup\n",
    "\n",
    "import warnings\n",
    "warnings.filterwarnings('ignore')\n"
   ]
  },
  {
   "cell_type": "code",
   "execution_count": 215,
   "metadata": {},
   "outputs": [],
   "source": [
    "def read_file(file_name):\n",
    "    df = pd.read_csv(file_name, sep=';')\n",
    "    print(df)"
   ]
  },
  {
   "cell_type": "code",
   "execution_count": 216,
   "metadata": {},
   "outputs": [],
   "source": [
    "def save_file(all_avto_links, file_name):\n",
    "    df = pd.DataFrame({'pages_href': all_avto_links}, index=range(1, len(all_avto_links)+1))\n",
    "    df = df.rename_axis('id_car')\n",
    "    df.head(100)\n",
    "#     print(df)\n",
    "    df.to_csv(file_name, sep=';')"
   ]
  },
  {
   "cell_type": "code",
   "execution_count": 217,
   "metadata": {},
   "outputs": [],
   "source": [
    "def parse_links(url, all_avto_links):\n",
    "    response = requests.get(url)\n",
    "    \n",
    "    html = response.text\n",
    "    soup = BeautifulSoup(html, 'html.parser')\n",
    "    avtos = soup.find_all('div', {'class':'listing-item'})\n",
    "    \n",
    "    for avto in avtos:\n",
    "        class_pages_href = avto.find('a')['href']    \n",
    "        all_avto_links.append(class_pages_href)\n",
    "        \n",
    "    return all_avto_links\n",
    "    "
   ]
  },
  {
   "cell_type": "code",
   "execution_count": 219,
   "metadata": {},
   "outputs": [
    {
     "name": "stdout",
     "output_type": "stream",
     "text": [
      "      id_car                                         pages_href\n",
      "0          1        https://cars.av.by/hyundai/solaris/16604923\n",
      "1          2  https://cars.av.by/mercedes-benz/a-klass/16529627\n",
      "2          3                 https://cars.av.by/bmw/x5/16704589\n",
      "3          4             https://cars.av.by/opel/corsa/16720276\n",
      "4          5                https://cars.av.by/kia/rio/16751989\n",
      "...      ...                                                ...\n",
      "2470    2471            https://cars.av.by/opel/antara/16737193\n",
      "2471    2472               https://cars.av.by/lexus/is/16751810\n",
      "2472    2473         https://cars.av.by/nissan/x-trail/16561038\n",
      "2473    2474  https://cars.av.by/mercedes-benz/e-klass/16556401\n",
      "2474    2475           https://cars.av.by/bmw/7-seriya/16769019\n",
      "\n",
      "[2475 rows x 2 columns]\n"
     ]
    }
   ],
   "source": [
    "url = 'https://cars.av.by/search/page/'\n",
    "\n",
    "file_name = 'data/auto.csv'\n",
    "\n",
    "all_avto_links = []\n",
    "    \n",
    "for page in range(1, 100):\n",
    "    all_avto_links = parse_links(url+str(page), all_avto_links)\n",
    "    \n",
    "\n",
    "save_file(all_avto_links, file_name)\n",
    "read_file(file_name)"
   ]
  },
  {
   "cell_type": "code",
   "execution_count": null,
   "metadata": {},
   "outputs": [],
   "source": []
  },
  {
   "cell_type": "code",
   "execution_count": 99,
   "metadata": {},
   "outputs": [],
   "source": [
    "multi_class = 'listing-item listing-item-top'\n",
    "multi_class1 = 'listing-item-image-in'\n",
    "multi_class2 = 'listing-item-wrap'\n",
    "\n",
    "class_title = 'listing-item-title'\n",
    "class_web_scraper_order = ''\n",
    "class_web_scraper_start_url =''\n",
    "class_pages = ''\n",
    "\n",
    "class_pages_href = ''\n",
    "class_name = ''\n",
    "class_year = ''\n",
    "class_cost = ''\n",
    "class_state = ''\n",
    "\n",
    "class_run = ''\n",
    "class_fuel = ''\n",
    "class_color = ''\n",
    "class_volume = ''\n",
    "class_cuzov = ''\n",
    "class_transmission = ''\n",
    "class_drive_unit = ''\n",
    "class_region = ''\n",
    "class_update = ''\n",
    "class_show = ''\n",
    "class_table = ''"
   ]
  },
  {
   "cell_type": "code",
   "execution_count": null,
   "metadata": {},
   "outputs": [],
   "source": []
  },
  {
   "cell_type": "code",
   "execution_count": null,
   "metadata": {},
   "outputs": [],
   "source": []
  },
  {
   "cell_type": "code",
   "execution_count": null,
   "metadata": {},
   "outputs": [],
   "source": []
  },
  {
   "cell_type": "code",
   "execution_count": null,
   "metadata": {},
   "outputs": [],
   "source": []
  }
 ],
 "metadata": {
  "kernelspec": {
   "display_name": "Python 3",
   "language": "python",
   "name": "python3"
  },
  "language_info": {
   "codemirror_mode": {
    "name": "ipython",
    "version": 3
   },
   "file_extension": ".py",
   "mimetype": "text/x-python",
   "name": "python",
   "nbconvert_exporter": "python",
   "pygments_lexer": "ipython3",
   "version": "3.7.3"
  }
 },
 "nbformat": 4,
 "nbformat_minor": 2
}
