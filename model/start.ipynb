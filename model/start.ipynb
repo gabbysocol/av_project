{
 "cells": [
  {
   "cell_type": "code",
   "execution_count": 328,
   "metadata": {},
   "outputs": [],
   "source": [
    "import pandas as pd\n",
    "import numpy as np\n",
    "import requests\n",
    "import json\n",
    "import re\n",
    "from bs4 import BeautifulSoup\n",
    "\n",
    "import warnings\n",
    "warnings.filterwarnings('ignore')\n"
   ]
  },
  {
   "cell_type": "markdown",
   "metadata": {},
   "source": [
    "## For save/read files"
   ]
  },
  {
   "cell_type": "code",
   "execution_count": 243,
   "metadata": {},
   "outputs": [],
   "source": [
    "def read_file(file_name):\n",
    "    df = pd.read_csv(file_name, sep=';')\n",
    "    pd.set_option('display.max_columns', 125)\n",
    "    return df"
   ]
  },
  {
   "cell_type": "code",
   "execution_count": 244,
   "metadata": {},
   "outputs": [],
   "source": [
    "def save_file(all_avto_links, file_name):\n",
    "    df = pd.DataFrame({'pages_href': all_avto_links}, index=range(1, len(all_avto_links)+1))\n",
    "    df = df.rename_axis('id_car')\n",
    "    df.head(100)\n",
    "\n",
    "    df.to_csv(file_name, sep=';')"
   ]
  },
  {
   "cell_type": "markdown",
   "metadata": {},
   "source": [
    "## For parse links of announcement of cars"
   ]
  },
  {
   "cell_type": "code",
   "execution_count": 245,
   "metadata": {},
   "outputs": [],
   "source": [
    "def parse_links(url, all_avto_links):\n",
    "    response = requests.get(url)\n",
    "    \n",
    "    html = response.text\n",
    "    soup = BeautifulSoup(html, 'html.parser')\n",
    "    avtos = soup.find_all('div', {'class':'listing-item'})\n",
    "    \n",
    "    for avto in avtos:\n",
    "        class_pages_href = avto.find('a')['href']    \n",
    "        all_avto_links.append(class_pages_href)\n",
    "        \n",
    "    return all_avto_links\n",
    "    "
   ]
  },
  {
   "cell_type": "code",
   "execution_count": 232,
   "metadata": {},
   "outputs": [
    {
     "name": "stdout",
     "output_type": "stream",
     "text": [
      "      id_car                                       pages_href\n",
      "0          1              https://cars.av.by/audi/a6/16520163\n",
      "1          2    https://cars.av.by/volkswagen/passat/16751766\n",
      "2          3  https://cars.av.by/jeep/grand-cherokee/16292976\n",
      "3          4           https://cars.av.by/fiat/punto/16710227\n",
      "4          5      https://cars.av.by/chevrolet/cruze/16063909\n",
      "...      ...                                              ...\n",
      "2495    2496            https://cars.av.by/mazda/626/16748595\n",
      "2496    2497      https://cars.av.by/audi/a6-allroad/16025687\n",
      "2497    2498      https://cars.av.by/ford/fusion-usa/16710455\n",
      "2498    2499       https://cars.av.by/toyota/corolla/16750629\n",
      "2499    2500            https://cars.av.by/volvo/v70/16750628\n",
      "\n",
      "[2500 rows x 2 columns]\n"
     ]
    }
   ],
   "source": [
    "url = 'https://cars.av.by/search/page/'\n",
    "\n",
    "file_name = 'data/auto12.csv'\n",
    "\n",
    "all_avto_links = []\n",
    "    \n",
    "for page in range(1100, 1200):\n",
    "    all_avto_links = parse_links(url+str(page), all_avto_links)\n",
    "    \n",
    "\n",
    "save_file(all_avto_links, file_name)\n",
    "read_file(file_name)"
   ]
  },
  {
   "cell_type": "markdown",
   "metadata": {},
   "source": [
    "## For parse data "
   ]
  },
  {
   "cell_type": "code",
   "execution_count": 266,
   "metadata": {},
   "outputs": [],
   "source": [
    "def parse(filename):    \n",
    "    return ''\n",
    "        \n",
    "    \n",
    "filename = 'data/auto1.csv'\n",
    "\n",
    "df_link = read_file(filename)\n",
    "df_link['pages_href'] = df_link['pages_href'].apply(str)\n",
    "url = df_link['pages_href'][1]\n",
    "multi_class = 'card'"
   ]
  },
  {
   "cell_type": "code",
   "execution_count": null,
   "metadata": {},
   "outputs": [],
   "source": []
  },
  {
   "cell_type": "code",
   "execution_count": 444,
   "metadata": {},
   "outputs": [],
   "source": [
    "def parse(url):\n",
    "    response = requests.get(url)\n",
    "    response.encoding = 'utf8'\n",
    "\n",
    "    html = response.text\n",
    "    soup = BeautifulSoup(html, 'html.parser')\n",
    "    avtos = soup.find_all('div', {'class':'card'})\n",
    "\n",
    "\n",
    "    avto = []\n",
    "    for elem in avtos:\n",
    "        name = re.sub(r'<h1 class=\\\"card-title\\\">|</h1>|\\n*', \n",
    "                      r'', str(elem.find('h1', {'class':'card-title'})).strip())\n",
    "\n",
    "        price = re.sub(r'[<>a-zA-Z\\/\\\"\\'\\=\\-\\+\\_\\@\\#\\/\\.\\n\\ ]*', \n",
    "                       r'',str(elem.find('span', {'class':'card-price-main-primary'})).strip())\n",
    "\n",
    "        main_info = str(elem.find('div', {'class':'card-info'})).strip()\n",
    "        options = re.sub(r'[<>a-zA-Z\\/\\\"\\'\\=\\-\\+\\_\\@\\#\\/\\.\\,]', r'', main_info)\n",
    "        fin_str = re.sub(r'[\\n]', r' ', options).strip()\n",
    "        options = fin_str.split('     ')\n",
    "\n",
    "        town = re.sub(r'<h4 class=\\\"card-contacts-city\\\">|</h4>|\\n*', r'', \n",
    "                      str(elem.find('h4', {'class':'card-contacts-city'})).strip())\n",
    "\n",
    "        add_f = re.sub(r'<div class=\\\"card-options js-card-options\\\">|<h4>|<\\/h4>|<h5>|<\\/h5>|<div>|<\\/div>|<ul>|<\\/ul>|<\\/li>|Дополнительные опции:|Безопасность|Климат и обогрев|Комфорт|Мультимедиа|Экстерьер|Оптика и свет|\\n*', r'', \n",
    "                       str(elem.find('div', {'class':'card-options js-card-options'})).strip())\n",
    "        add_f = add_f.split('<li>')\n",
    "\n",
    "        avto.append([name, price, options, town, add_f])\n",
    "\n",
    "        df = pd.DataFrame(avto)\n",
    "    \n",
    "        df.head(10)\n",
    "        \n",
    "parse(url)"
   ]
  },
  {
   "cell_type": "code",
   "execution_count": null,
   "metadata": {},
   "outputs": [],
   "source": []
  },
  {
   "cell_type": "code",
   "execution_count": null,
   "metadata": {},
   "outputs": [],
   "source": []
  },
  {
   "cell_type": "code",
   "execution_count": null,
   "metadata": {},
   "outputs": [],
   "source": []
  }
 ],
 "metadata": {
  "kernelspec": {
   "display_name": "Python 3",
   "language": "python",
   "name": "python3"
  },
  "language_info": {
   "codemirror_mode": {
    "name": "ipython",
    "version": 3
   },
   "file_extension": ".py",
   "mimetype": "text/x-python",
   "name": "python",
   "nbconvert_exporter": "python",
   "pygments_lexer": "ipython3",
   "version": "3.7.3"
  }
 },
 "nbformat": 4,
 "nbformat_minor": 2
}
